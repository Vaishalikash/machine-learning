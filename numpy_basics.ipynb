{
 "cells": [
  {
   "cell_type": "code",
   "execution_count": 3,
   "metadata": {},
   "outputs": [],
   "source": [
    "#importing numpy\n",
    "import numpy"
   ]
  },
  {
   "cell_type": "code",
   "execution_count": 4,
   "metadata": {},
   "outputs": [],
   "source": [
    "import numpy as np"
   ]
  },
  {
   "cell_type": "code",
   "execution_count": 6,
   "metadata": {},
   "outputs": [
    {
     "name": "stdout",
     "output_type": "stream",
     "text": [
      "[1, 6, 4, 8, 3, 1, 6, 4, 8, 3, 1, 6, 4, 8, 3]\n",
      "[ 3 18 12 24  9]\n"
     ]
    }
   ],
   "source": [
    "# how list is different from numpy array\n",
    "a =[ 1,6,4,8,3]\n",
    "print (a *3)\n",
    "b = np.array([1,6,4,8,3])\n",
    "print (b*3) # here each element is multiplied by 3 of an array"
   ]
  },
  {
   "cell_type": "code",
   "execution_count": 10,
   "metadata": {},
   "outputs": [
    {
     "data": {
      "text/plain": [
       "array([[ 1,  2,  3,  4],\n",
       "       [ 5,  6,  7,  8],\n",
       "       [ 9, 10, 11, 12],\n",
       "       [13, 14, 15, 16],\n",
       "       [17, 18, 19, 20]])"
      ]
     },
     "execution_count": 10,
     "metadata": {},
     "output_type": "execute_result"
    }
   ],
   "source": [
    "#reshaping \n",
    "b = np.arange(1,21)\n",
    "b.reshape(5,4)"
   ]
  },
  {
   "cell_type": "code",
   "execution_count": 15,
   "metadata": {},
   "outputs": [
    {
     "data": {
      "text/plain": [
       "array([[1, 3, 5, 2],\n",
       "       [1, 5, 3, 7],\n",
       "       [2, 5, 1, 8]])"
      ]
     },
     "execution_count": 15,
     "metadata": {},
     "output_type": "execute_result"
    }
   ],
   "source": [
    "# 2-D array\n",
    "c = np.array([[1,3,5,2],[1,5,3,7],[2,5,1,8]])\n",
    "c"
   ]
  },
  {
   "cell_type": "code",
   "execution_count": 18,
   "metadata": {},
   "outputs": [
    {
     "name": "stdout",
     "output_type": "stream",
     "text": [
      "[   2   68   46 -112]\n",
      "[   2.   68.   46. -112.]\n"
     ]
    }
   ],
   "source": [
    "#declaring array data type\n",
    "d = np.array([1,34,23.567,200] , dtype = 'int8')\n",
    "print(d*2)\n",
    "a = d.astype(\"float32\")\n",
    "print(a*2)\n"
   ]
  },
  {
   "cell_type": "code",
   "execution_count": 20,
   "metadata": {},
   "outputs": [
    {
     "name": "stdout",
     "output_type": "stream",
     "text": [
      "[    0     1     2 87493     4     5     6     7     8     9    10    11\n",
      "    12    13]\n",
      "[87493     4     5     6     7     8]\n",
      "[87493     4     5     6     7     8]\n",
      "[    0     1     2 87493     4     5     6     7     8]\n",
      "[    0     1     2 87493     4     5     6     7     8     9    10    11\n",
      "    12    13]\n",
      "[ 0  2  4  6  8 10 12]\n",
      "\n"
     ]
    }
   ],
   "source": [
    "#splicing and indexing\n",
    "a = np.arange(14)\n",
    "b = a[3:9]\n",
    "b[0] = 87493\n",
    "print(a)\n",
    "print(b)\n",
    "print(a[3:9])\n",
    "print(a[:9])\n",
    "print(a[:])\n",
    "print(a[::2])\n",
    "print()"
   ]
  },
  {
   "cell_type": "code",
   "execution_count": 25,
   "metadata": {},
   "outputs": [
    {
     "name": "stdout",
     "output_type": "stream",
     "text": [
      "[[ 0  1  2  3]\n",
      " [ 4  5  6  7]\n",
      " [ 8  9 10 11]]\n",
      "[[ 0  1  2  3]\n",
      " [ 4  5  6  7]\n",
      " [ 8  9 10 11]]\n"
     ]
    }
   ],
   "source": [
    "c = np.arange(24).reshape(2, 3, 4)\n",
    "\n",
    "print(c[0,:,:])\n",
    "print(c[0])"
   ]
  },
  {
   "cell_type": "code",
   "execution_count": 29,
   "metadata": {},
   "outputs": [
    {
     "name": "stdout",
     "output_type": "stream",
     "text": [
      "(10,)\n",
      "(2, 5)\n"
     ]
    }
   ],
   "source": [
    "#shape and transpose\n",
    "a = np.arange(24,34)\n",
    "b= a.reshape(2,5)\n",
    "print(a.shape)\n",
    "print(b.shape) #shape method prints the dimention of the array"
   ]
  },
  {
   "cell_type": "code",
   "execution_count": 30,
   "metadata": {},
   "outputs": [
    {
     "name": "stdout",
     "output_type": "stream",
     "text": [
      "(10,) (10,)\n",
      "(5, 2) (2, 5)\n"
     ]
    }
   ],
   "source": [
    "#transpose of a matrix\n",
    "print(a.T.shape,a.shape) # transpose of a vector is vector itself\n",
    "print(b.T.shape,b.shape) "
   ]
  },
  {
   "cell_type": "code",
   "execution_count": 31,
   "metadata": {},
   "outputs": [
    {
     "name": "stdout",
     "output_type": "stream",
     "text": [
      "[[ 0  1  2  3]\n",
      " [ 4  5  6  7]\n",
      " [ 8  9 10 11]\n",
      " [12 13 14 15]\n",
      " [16 17 18 19]\n",
      " [20 21 22 23]]\n",
      "[[ 0  4  8 12 16 20]\n",
      " [ 1  5  9 13 17 21]\n",
      " [ 2  6 10 14 18 22]\n",
      " [ 3  7 11 15 19 23]]\n"
     ]
    }
   ],
   "source": [
    "c = np.arange(24).reshape(6,4)\n",
    "print(c)\n",
    "print(c.T)"
   ]
  },
  {
   "cell_type": "code",
   "execution_count": 32,
   "metadata": {
    "scrolled": true
   },
   "outputs": [
    {
     "name": "stdout",
     "output_type": "stream",
     "text": [
      "[False False False False False False False False False False False False\n",
      " False False False False False False False False False False False False\n",
      " False False  True  True  True  True  True  True  True  True  True]\n",
      "[26 27 28 29 30 31 32 33 34]\n"
     ]
    }
   ],
   "source": [
    "#MASKING IN NUMPY IS SIMILAR TO FILTERING\n",
    "a = np.arange(35)\n",
    "print(a>25)\n",
    "print(a[a>25])"
   ]
  },
  {
   "cell_type": "code",
   "execution_count": 38,
   "metadata": {},
   "outputs": [
    {
     "name": "stdout",
     "output_type": "stream",
     "text": [
      "[21 22 23 24 25 26 27 28 29 30 31 32 33 34]\n"
     ]
    }
   ],
   "source": [
    "#masking in 2d array\n",
    "b=np.arange(35).reshape(7,5)\n",
    "print(b[b>20])"
   ]
  },
  {
   "cell_type": "code",
   "execution_count": 41,
   "metadata": {},
   "outputs": [
    {
     "name": "stdout",
     "output_type": "stream",
     "text": [
      "[0. 0. 0. 0. 0. 0.]\n",
      "[1. 1. 1. 1. 1. 1.]\n",
      "[[0. 0. 0. 0.]\n",
      " [0. 0. 0. 0.]\n",
      " [0. 0. 0. 0.]]\n"
     ]
    }
   ],
   "source": [
    "#special array\n",
    "print(np.zeros(6))\n",
    "print(np.ones(6))\n",
    "print(np.zeros((3,4)))"
   ]
  },
  {
   "cell_type": "code",
   "execution_count": 43,
   "metadata": {},
   "outputs": [
    {
     "data": {
      "text/plain": [
       "array([[9.77979413e-312, 9.78001215e-312],\n",
       "       [9.78001218e-312, 9.77978539e-312]])"
      ]
     },
     "execution_count": 43,
     "metadata": {},
     "output_type": "execute_result"
    }
   ],
   "source": [
    "np.empty((2,2))"
   ]
  },
  {
   "cell_type": "code",
   "execution_count": 45,
   "metadata": {},
   "outputs": [
    {
     "name": "stdout",
     "output_type": "stream",
     "text": [
      "[[1. 0.]\n",
      " [0. 1.]]\n",
      "[[1. 0. 0.]\n",
      " [0. 1. 0.]\n",
      " [0. 0. 1.]]\n"
     ]
    }
   ],
   "source": [
    "print(np.eye(2))\n",
    "print(np.identity(3))"
   ]
  },
  {
   "cell_type": "code",
   "execution_count": 47,
   "metadata": {},
   "outputs": [
    {
     "data": {
      "text/plain": [
       "array([1.   , 1.625, 2.25 , 2.875, 3.5  , 4.125, 4.75 , 5.375, 6.   ])"
      ]
     },
     "execution_count": 47,
     "metadata": {},
     "output_type": "execute_result"
    }
   ],
   "source": [
    "#linspace command will create an array of 9 element between 1 and 6\n",
    "np.linspace(1,6,9)"
   ]
  },
  {
   "cell_type": "code",
   "execution_count": 49,
   "metadata": {},
   "outputs": [
    {
     "name": "stdout",
     "output_type": "stream",
     "text": [
      "91\n",
      "91\n"
     ]
    }
   ],
   "source": [
    "#AXIS\n",
    "a = np.arange(14)\n",
    "print(a.sum())\n",
    "b = a.reshape(7,2)\n",
    "print(b.sum())\n",
    "#sum()  will give the sum no matter what the dimension is"
   ]
  },
  {
   "cell_type": "code",
   "execution_count": 51,
   "metadata": {},
   "outputs": [
    {
     "name": "stdout",
     "output_type": "stream",
     "text": [
      "[42 49]\n",
      "[ 1  5  9 13 17 21 25]\n"
     ]
    }
   ],
   "source": [
    "#performing sum across the specific dimention \n",
    "print(b.sum(axis=0)) # summing through the coloumns\n",
    "print(b.sum(axis = 1)) # summing through the rows"
   ]
  },
  {
   "cell_type": "code",
   "execution_count": 52,
   "metadata": {},
   "outputs": [
    {
     "name": "stdout",
     "output_type": "stream",
     "text": [
      "[[ 0  1  2  3  4]\n",
      " [ 5  6  7  8  9]\n",
      " [10 11 12 13 14]]\n",
      "[ 4  9 14]\n",
      "[ 4  9 14]\n"
     ]
    }
   ],
   "source": [
    "#STATISTICAL ANALYSIS\n",
    "#calculate maximum\n",
    "b = np.arange(15).reshape(3, 5)\n",
    "print(b)\n",
    "print(b.max(axis=1)) # collapses all the columns\n",
    "print(np.max(b, axis=1)) # prefer this way of writing\n"
   ]
  },
  {
   "cell_type": "code",
   "execution_count": 53,
   "metadata": {},
   "outputs": [
    {
     "name": "stdout",
     "output_type": "stream",
     "text": [
      "7.0\n",
      "[5. 6. 7. 8. 9.]\n",
      "[ 2.  7. 12.]\n"
     ]
    }
   ],
   "source": [
    "#calculate mean\n",
    "print(b.mean()) # gives the overall mean\n",
    "print(b.mean(axis=0)) # finds column-wise mean, counter-intuitive\n",
    "print(b.mean(axis=1)) # finds row-wise mean"
   ]
  },
  {
   "cell_type": "code",
   "execution_count": 55,
   "metadata": {},
   "outputs": [
    {
     "data": {
      "text/plain": [
       "4.320493798938574"
      ]
     },
     "execution_count": 55,
     "metadata": {},
     "output_type": "execute_result"
    }
   ],
   "source": [
    "#calculate median\n",
    "np.median(b) # b.median will  give error\n",
    "np.std(b)"
   ]
  },
  {
   "cell_type": "code",
   "execution_count": 56,
   "metadata": {},
   "outputs": [
    {
     "name": "stdout",
     "output_type": "stream",
     "text": [
      "[[99.47556776 95.96856718 99.78805177]\n",
      " [97.36276742 96.29491274 95.82190181]]\n",
      "[50 52 55 52 55]\n"
     ]
    }
   ],
   "source": [
    "#Random Uniform Distributions\n",
    "np.random.rand(5)\n",
    "print(90 + np.random.rand(2, 3)*10)\n",
    "print(np.random.randint(50, 60, 5)) # gives integer"
   ]
  },
  {
   "cell_type": "code",
   "execution_count": 59,
   "metadata": {},
   "outputs": [
    {
     "name": "stdout",
     "output_type": "stream",
     "text": [
      "[103.39147828  79.68573543  94.48881831 102.83521085  95.56262767\n",
      " 112.81603357  83.29619263  89.217209    99.1365446  120.69683547\n",
      " 104.12438096  59.77004175  82.35303205 123.02595976  77.29503241\n",
      "  96.61607498 106.74782583 102.06474714 106.98816507  85.60125318\n",
      " 113.64022866 120.53990748 125.71034614 102.74337407 102.66657289\n",
      " 114.90199148 103.97618442 119.44480536 114.25913446 101.97344564\n",
      " 112.56094308 135.42775856  73.26501203  92.87369843  88.77932076\n",
      "  91.34738163  84.06314666  89.53979085 115.02275599  82.51123448\n",
      "  72.8278262   92.75496875 115.0477676  125.71879444 115.18942801\n",
      " 101.44870926  82.2756665  115.34503379 109.57103451  88.06434168\n",
      " 111.30454132 101.16738054 106.43435349  99.61568127 107.80525453\n",
      " 108.11263435  89.94079231 109.67826632  85.23257953  92.69146083\n",
      " 106.45162912 116.53765737  76.6416303   97.33882912  84.78940373\n",
      "  79.46725324 113.19037185  93.18443274 111.3219138   87.06183798\n",
      " 121.9683212  103.16196105 127.03191551  64.52976238  78.77102275\n",
      " 100.63984035 109.55965626 124.89139188 101.64570299 100.97865117\n",
      "  91.46653987  95.51797476 108.22070475  91.07819055  97.30214167\n",
      "  95.31505151 106.88281558  75.28972821  79.55095541 120.03002407\n",
      "  82.17126617 119.80534456  95.69960296 108.25706232  93.33402484\n",
      "  90.10869124 104.84476347  82.66733541 113.65360612  83.86031226]\n",
      "101.3080449017741\n",
      "99.75406067786811\n"
     ]
    }
   ],
   "source": [
    "#Random normal distribution\n",
    "mu = 100\n",
    "sigma = 15\n",
    "s = np.random.normal(mu,sigma,100) # generates 100 values\n",
    "print(s)\n",
    "print(np.median(s))\n",
    "print(np.mean(s))"
   ]
  },
  {
   "cell_type": "code",
   "execution_count": 65,
   "metadata": {},
   "outputs": [
    {
     "name": "stdout",
     "output_type": "stream",
     "text": [
      "[[2 7 1 1]\n",
      " [1 4 5 2]\n",
      " [4 7 6 4]]\n",
      "[[1 1 2 7]\n",
      " [1 2 4 5]\n",
      " [4 4 6 7]]\n"
     ]
    }
   ],
   "source": [
    "#sorting\n",
    "d = np.random.randint(1,9,(3,4))\n",
    "print(d)\n",
    "d.sort()\n",
    "print(d)"
   ]
  },
  {
   "cell_type": "code",
   "execution_count": null,
   "metadata": {},
   "outputs": [],
   "source": []
  }
 ],
 "metadata": {
  "kernelspec": {
   "display_name": "Python 3",
   "language": "python",
   "name": "python3"
  },
  "language_info": {
   "codemirror_mode": {
    "name": "ipython",
    "version": 3
   },
   "file_extension": ".py",
   "mimetype": "text/x-python",
   "name": "python",
   "nbconvert_exporter": "python",
   "pygments_lexer": "ipython3",
   "version": "3.7.1"
  }
 },
 "nbformat": 4,
 "nbformat_minor": 2
}
